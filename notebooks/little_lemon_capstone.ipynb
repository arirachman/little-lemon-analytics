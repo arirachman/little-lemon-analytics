{
 "cells": [
  {
   "cell_type": "markdown",
   "id": "68a266dd",
   "metadata": {},
   "source": [
    "# Capstone Project: Little Lemon Booking Data\n",
    "Welcome to the capstone project for Little Lemon Booking Data! The purpose of this project is to establish a booking database from a restaurant stored data and generate analysis from the database.\n",
    "\n",
    "The restaurant name is Little Lemon, it is a family-owned Medierranian restaurant. They want to enable data-driven decisions to increase their revenue by having regular report of their business performance. They want the system to be easily maintainable, and easy to automate for further analysis.\n",
    "\n",
    "The approach in this project is to develop a notebook that will setup a MySQL database, populate existing data, and generate some insights from it. They can run this notebook in their server and will having MySQL database automatically installed in their server.\n",
    "\n",
    "This project has 5 parts:\n",
    "**Step 1**: Setting up the database service\n",
    "**Step 2**: Setting up the database schema\n",
    "**Step 3**: Populate the existing data into the database\n",
    "**Step 4**: Create Stored Procedures\n",
    "**Step 5**: Analysis and report\n"
   ]
  },
  {
   "cell_type": "markdown",
   "id": "c95a1e2c",
   "metadata": {},
   "source": [
    "## STEP 1: Setting up the Database Service\n",
    "The first step is to setup the database, the database service used for the analysis is mysql."
   ]
  },
  {
   "cell_type": "code",
   "execution_count": 14,
   "id": "40681cca",
   "metadata": {},
   "outputs": [
    {
     "name": "stdout",
     "output_type": "stream",
     "text": [
      "Requirement already satisfied: mysql-connector-python in /Users/arirachman/Documents/drive-mac-sync/projects/little-lemon-analytics/little-lemon-db-and-salesreport/venv/lib/python3.13/site-packages (9.4.0)\n"
     ]
    }
   ],
   "source": [
    "# Install the mysql-connector-python package if not already installed\n",
    "!pip install mysql-connector-python"
   ]
  },
  {
   "cell_type": "code",
   "execution_count": 15,
   "id": "55f6c8d3",
   "metadata": {},
   "outputs": [
    {
     "name": "stdout",
     "output_type": "stream",
     "text": [
      "Successfully connected to the database\n"
     ]
    }
   ],
   "source": [
    "# Import the mysql.connector module\n",
    "import mysql.connector as connector\n",
    "\n",
    "# Connect to the MySQL database\n",
    "try:\n",
    "    connection = connector.connect(\n",
    "        user='testuser',\n",
    "        password='testpass',\n",
    "    )\n",
    "    if connection.is_connected():\n",
    "        print(\"Successfully connected to the database\")\n",
    "except connector.Error as err:\n",
    "    print(f\"Error: {err}\")"
   ]
  },
  {
   "cell_type": "code",
   "execution_count": 16,
   "id": "30375cd0",
   "metadata": {},
   "outputs": [
    {
     "name": "stdout",
     "output_type": "stream",
     "text": [
      "Cursor created successfully\n"
     ]
    }
   ],
   "source": [
    "# Create a cursor object to interact with the database\n",
    "try:\n",
    "    cursor = connection.cursor()\n",
    "    print(\"Cursor created successfully\")\n",
    "except connector.Error as err:\n",
    "    print(f\"Error: {err}\")"
   ]
  },
  {
   "cell_type": "code",
   "execution_count": 17,
   "id": "c0ba8fa2",
   "metadata": {},
   "outputs": [
    {
     "name": "stdout",
     "output_type": "stream",
     "text": [
      "Using database db_capstone_project\n"
     ]
    }
   ],
   "source": [
    "# use the db_capstone_project database\n",
    "try:\n",
    "    cursor.execute(\"USE db_capstone_project;\")\n",
    "    print(\"Using database db_capstone_project\")\n",
    "except connector.Error as err:\n",
    "    print(f\"Error: {err}\")"
   ]
  },
  {
   "cell_type": "code",
   "execution_count": 30,
   "id": "46e61500",
   "metadata": {},
   "outputs": [
    {
     "name": "stdout",
     "output_type": "stream",
     "text": [
      "Tables in the database:\n",
      "Booking\n",
      "Customers\n",
      "HighCostCustomers\n",
      "MenuItems\n",
      "MenuOrderedMoreThanTwo\n",
      "Menus\n",
      "OrderDetail\n",
      "OrderStatus\n",
      "Orders\n",
      "OrdersView\n",
      "Staff\n"
     ]
    }
   ],
   "source": [
    "# Show tables in the database\n",
    "try:\n",
    "    cursor.execute(\"SHOW TABLES;\")\n",
    "    tables = cursor.fetchall()\n",
    "    print(\"Tables in the database:\")\n",
    "    for table in tables:\n",
    "        print(table[0])\n",
    "except connector.Error as err:\n",
    "    print(f\"Error: {err}\")"
   ]
  },
  {
   "cell_type": "code",
   "execution_count": null,
   "id": "8d9b6dd1",
   "metadata": {},
   "outputs": [
    {
     "name": "stdout",
     "output_type": "stream",
     "text": [
      "Customers with Orders.TotalCost > 60:\n"
     ]
    }
   ],
   "source": [
    "# Query the full name and email of customers with Orders.TotalCost > 60\n",
    "# The join is done by matching Orders.BookingID with Booking.Booking.ID, and Booking.CustomerID with Customers.ID\n",
    "try:\n",
    "    query = \"\"\"\n",
    "    SELECT Customers.FullName, Customers.Email\n",
    "    FROM Orders\n",
    "    JOIN Booking ON Orders.BookingID = Booking.BookingID\n",
    "    JOIN Customers ON Booking.CustomerID = Customers.CustomerID\n",
    "    WHERE Orders.TotalCost > 60;\n",
    "    \"\"\"\n",
    "    cursor.execute(query)\n",
    "    results = cursor.fetchall()\n",
    "    print(\"Customers with Orders.TotalCost > 60:\")\n",
    "    for row in results:\n",
    "        print(f\"Full Name: {row[0]}, Email: {row[1]}\")\n",
    "\n",
    "except connector.Error as err:\n",
    "    print(f\"Error: {err}\")\n",
    "\n"
   ]
  },
  {
   "cell_type": "code",
   "execution_count": null,
   "id": "bbaf2d4f",
   "metadata": {},
   "outputs": [],
   "source": []
  }
 ],
 "metadata": {
  "kernelspec": {
   "display_name": "venv",
   "language": "python",
   "name": "python3"
  },
  "language_info": {
   "codemirror_mode": {
    "name": "ipython",
    "version": 3
   },
   "file_extension": ".py",
   "mimetype": "text/x-python",
   "name": "python",
   "nbconvert_exporter": "python",
   "pygments_lexer": "ipython3",
   "version": "3.13.5"
  }
 },
 "nbformat": 4,
 "nbformat_minor": 5
}
