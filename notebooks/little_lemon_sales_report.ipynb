{
 "cells": [
  {
   "cell_type": "markdown",
   "id": "75379f82",
   "metadata": {},
   "source": [
    "# Little Lemon Sales Report\n",
    "Welcome to the Lemon Sales report in Jupyter Notebook! The purpose of this project is to establish a database from a restaurant stored data and generate analysis from the database.\n",
    "\n",
    "The restaurant name is Little Lemon, it is a family-owned Medierranian restaurant. They want to enable data-driven decisions to increase their revenue by having regular report of their business performance. They want the system to be easily maintainable, and easy to automate for further analysis.\n",
    "\n",
    "The approach in this project is to develop a notebook that will setup a MySQL database, populate existing data, and generate some insights from it. They can run this notebook in their server and will having MySQL database automatically installed in their server.\n",
    "\n",
    "This project has 5 parts:\n",
    "**Step 1**: Setting up the database service\n",
    "**Step 2**: Setting up the database schema\n",
    "**Step 3**: Populate the existing data into the database\n",
    "**Step 4**: Create Stored Procedures\n",
    "**Step 5**: Analysis and report\n"
   ]
  },
  {
   "cell_type": "markdown",
   "id": "7f2fde9d",
   "metadata": {},
   "source": [
    "## STEP 1: Setting up the Database Service\n",
    "The first step is to setup the database, the database service used for the analysis is mysql."
   ]
  },
  {
   "cell_type": "code",
   "execution_count": 1,
   "id": "3801ae10",
   "metadata": {},
   "outputs": [
    {
     "name": "stdout",
     "output_type": "stream",
     "text": [
      "Collecting mysql-connector-python\n",
      "  Using cached mysql_connector_python-9.4.0-py2.py3-none-any.whl.metadata (7.3 kB)\n",
      "Using cached mysql_connector_python-9.4.0-py2.py3-none-any.whl (406 kB)\n",
      "Installing collected packages: mysql-connector-python\n",
      "Successfully installed mysql-connector-python-9.4.0\n"
     ]
    }
   ],
   "source": [
    "# Install the mysql-connector-python package if not already installed\n",
    "!pip install mysql-connector-python"
   ]
  },
  {
   "cell_type": "code",
   "execution_count": 2,
   "id": "e6770e3d",
   "metadata": {},
   "outputs": [
    {
     "name": "stdout",
     "output_type": "stream",
     "text": [
      "Successfully connected to the database\n"
     ]
    }
   ],
   "source": [
    "# Import the mysql.connector module\n",
    "import mysql.connector as connector\n",
    "\n",
    "# Connect to the MySQL database\n",
    "try:\n",
    "    connection = connector.connect(\n",
    "        user='testuser',\n",
    "        password='testpass',\n",
    "    )\n",
    "    if connection.is_connected():\n",
    "        print(\"Successfully connected to the database\")\n",
    "except connector.Error as err:\n",
    "    print(f\"Error: {err}\")"
   ]
  },
  {
   "cell_type": "code",
   "execution_count": 3,
   "id": "6664a41f",
   "metadata": {},
   "outputs": [
    {
     "name": "stdout",
     "output_type": "stream",
     "text": [
      "Cursor created successfully\n"
     ]
    }
   ],
   "source": [
    "# Create a cursor object to interact with the database\n",
    "try:\n",
    "    cursor = connection.cursor()\n",
    "    print(\"Cursor created successfully\")\n",
    "except connector.Error as err:\n",
    "    print(f\"Error: {err}\")"
   ]
  },
  {
   "cell_type": "markdown",
   "id": "96e3eb2d",
   "metadata": {},
   "source": [
    "The database has successfully connected, as well as the cursor object is created. We can move forward to creating the database."
   ]
  },
  {
   "cell_type": "markdown",
   "id": "dfec5cf3",
   "metadata": {},
   "source": [
    "## STEP 2: Setting up the database\n",
    "At this step we're going to setting up the little_lemon database as well as the schema of the database"
   ]
  },
  {
   "cell_type": "code",
   "execution_count": 4,
   "id": "7315dcab",
   "metadata": {},
   "outputs": [
    {
     "name": "stdout",
     "output_type": "stream",
     "text": [
      "Database 'little_lemon' created or already exists\n"
     ]
    }
   ],
   "source": [
    "# Create a new database named 'little_lemon'\n",
    "try:\n",
    "    cursor.execute(\"CREATE DATABASE IF NOT EXISTS little_lemon\")\n",
    "    print(\"Database 'little_lemon' created or already exists\")\n",
    "except connector.Error as err:\n",
    "    print(f\"Error: {err}\")"
   ]
  },
  {
   "cell_type": "code",
   "execution_count": 5,
   "id": "3453a5bc",
   "metadata": {},
   "outputs": [
    {
     "name": "stdout",
     "output_type": "stream",
     "text": [
      "Using database 'little_lemon'\n"
     ]
    }
   ],
   "source": [
    "# Set the database to use\n",
    "try:\n",
    "    cursor.execute(\"USE little_lemon\")\n",
    "    print(\"Using database 'little_lemon'\")\n",
    "except connector.Error as err:\n",
    "    print(f\"Error: {err}\")"
   ]
  },
  {
   "cell_type": "code",
   "execution_count": 10,
   "id": "6dd729a3",
   "metadata": {},
   "outputs": [
    {
     "name": "stdout",
     "output_type": "stream",
     "text": [
      "Table 'MenuItems' created or already exists\n"
     ]
    }
   ],
   "source": [
    "# Create MenuItems table\n",
    "drop_menuitems_table_query = \"DROP TABLE IF EXISTS MenuItems\" # reset the table if it exists\n",
    "create_menuitems_table_query = \"\"\"\n",
    "    CREATE TABLE IF NOT EXISTS MenuItems (\n",
    "        ItemID INT AUTO_INCREMENT,\n",
    "        Name VARCHAR(200),\n",
    "        Type VARCHAR(100),\n",
    "        Price INT,\n",
    "        PRIMARY KEY (ItemID)\n",
    "        );\n",
    "    \"\"\"\n",
    "try:\n",
    "    cursor.execute(drop_menuitems_table_query)\n",
    "    cursor.execute(create_menuitems_table_query)\n",
    "    print(\"Table 'MenuItems' created or already exists\")\n",
    "except connector.Error as err:\n",
    "    print(f\"Error: {err}\")"
   ]
  },
  {
   "cell_type": "code",
   "execution_count": 13,
   "id": "771f7e9a",
   "metadata": {},
   "outputs": [
    {
     "name": "stdout",
     "output_type": "stream",
     "text": [
      "Table 'Menu' created or already exists\n"
     ]
    }
   ],
   "source": [
    "# Create menu table\n",
    "drop_menu_table_query = \"DROP TABLE IF EXISTS Menus\" # reset the table if it exists\n",
    "create_menu_table_query = \"\"\"\n",
    "    CREATE TABLE IF NOT EXISTS Menus (\n",
    "        MenuID INT,\n",
    "        ItemID INT,\n",
    "        Cuisine VARCHAR(100),\n",
    "        PRIMARY KEY (MenuID, ItemID)\n",
    "    );\n",
    "    \"\"\"\n",
    "try:\n",
    "    cursor.execute(drop_menu_table_query)\n",
    "    cursor.execute(create_menu_table_query)\n",
    "    print(\"Table 'Menu' created or already exists\")\n",
    "except connector.Error as err:\n",
    "    print(f\"Error: {err}\")"
   ]
  },
  {
   "cell_type": "code",
   "execution_count": 14,
   "id": "c08ae512",
   "metadata": {},
   "outputs": [
    {
     "name": "stdout",
     "output_type": "stream",
     "text": [
      "Table 'Bookings' created or already exists\n"
     ]
    }
   ],
   "source": [
    "# Create booking table\n",
    "drop_booking_table_query = \"DROP TABLE IF EXISTS Bookings\" # reset the table if it exists\n",
    "create_booking_table_query = \"\"\"\n",
    "    CREATE TABLE IF NOT EXISTS Bookings (\n",
    "        BookingID INT AUTO_INCREMENT,\n",
    "        TableNo INT,\n",
    "        GuestFirstName VARCHAR(100) NOT NULL,\n",
    "        GuestLastName VARCHAR(100) NOT NULL,\n",
    "        BookingSlot TIME NOT NULL,\n",
    "        EmployeeID INT,\n",
    "        PRIMARY KEY (BookingID)\n",
    "    );\n",
    "    \"\"\"\n",
    "try:\n",
    "    cursor.execute(drop_booking_table_query)\n",
    "    cursor.execute(create_booking_table_query)\n",
    "    print(\"Table 'Bookings' created or already exists\")\n",
    "except connector.Error as err:\n",
    "    print(f\"Error: {err}\")"
   ]
  },
  {
   "cell_type": "code",
   "execution_count": 16,
   "id": "7aa7a853",
   "metadata": {},
   "outputs": [
    {
     "name": "stdout",
     "output_type": "stream",
     "text": [
      "Table 'Orders' created or already exists\n"
     ]
    }
   ],
   "source": [
    "# Create orders table\n",
    "drop_orders_table_query = \"DROP TABLE IF EXISTS Orders\" # reset the table if it exists\n",
    "create_orders_table_query = \"\"\"\n",
    "    CREATE TABLE IF NOT EXISTS Orders (\n",
    "        OrderID INT,\n",
    "        TableNo INT,\n",
    "        MenuID INT,\n",
    "        BookingID INT,\n",
    "        BillAmount INT,\n",
    "        Quantity INT,\n",
    "        PRIMARY KEY (OrderID, TableNo)\n",
    "    );\n",
    "    \"\"\"\n",
    "try:\n",
    "    cursor.execute(drop_orders_table_query)\n",
    "    cursor.execute(create_orders_table_query)\n",
    "    print(\"Table 'Orders' created or already exists\")\n",
    "except connector.Error as err:\n",
    "    print(f\"Error: {err}\")"
   ]
  },
  {
   "cell_type": "code",
   "execution_count": 17,
   "id": "652d455e",
   "metadata": {},
   "outputs": [
    {
     "name": "stdout",
     "output_type": "stream",
     "text": [
      "Table 'Employees' created or already exists\n"
     ]
    }
   ],
   "source": [
    "# Create employees table\n",
    "drop_employees_table_query = \"DROP TABLE IF EXISTS Employees\" # reset the table if it exists\n",
    "create_employees_table_query = \"\"\"\n",
    "    CREATE TABLE IF NOT EXISTS Employees (\n",
    "        EmployeeID INT AUTO_INCREMENT PRIMARY KEY,\n",
    "        Name VARCHAR(255),\n",
    "        Role VARCHAR(100),\n",
    "        Address VARCHAR(255),\n",
    "        Contact_Number INT,\n",
    "        Email VARCHAR(255),\n",
    "        Annual_Salary VARCHAR(100)\n",
    "        );\n",
    "    \"\"\"\n",
    "try:\n",
    "    cursor.execute(drop_employees_table_query)\n",
    "    cursor.execute(create_employees_table_query)\n",
    "    print(\"Table 'Employees' created or already exists\")\n",
    "except connector.Error as err:\n",
    "    print(f\"Error: {err}\")"
   ]
  },
  {
   "cell_type": "markdown",
   "id": "24b46f69",
   "metadata": {},
   "source": [
    "## STEP 3: Populate the data into the database\n",
    "At this step we're going to populate the available data from the restaurant into the database"
   ]
  },
  {
   "cell_type": "code",
   "execution_count": 31,
   "id": "8e23c896",
   "metadata": {},
   "outputs": [],
   "source": [
    "#*******************************************************#\n",
    "# Insert query to populate \"MenuItems\" table:\n",
    "#*******************************************************#\n",
    "insert_menuitems=\"\"\"\n",
    "INSERT INTO MenuItems (ItemID, Name, Type, Price)\n",
    "VALUES\n",
    "(1, 'Olives','Starters',5),\n",
    "(2, 'Flatbread','Starters', 5),\n",
    "(3, 'Minestrone', 'Starters', 8),\n",
    "(4, 'Tomato bread','Starters', 8),\n",
    "(5, 'Falafel', 'Starters', 7),\n",
    "(6, 'Hummus', 'Starters', 5),\n",
    "(7, 'Greek salad', 'Main Courses', 15),\n",
    "(8, 'Bean soup', 'Main Courses', 12),\n",
    "(9, 'Pizza', 'Main Courses', 15),\n",
    "(10, 'Greek yoghurt','Desserts', 7),\n",
    "(11, 'Ice cream', 'Desserts', 6),\n",
    "(12, 'Cheesecake', 'Desserts', 4),\n",
    "(13, 'Athens White wine', 'Drinks', 25),\n",
    "(14, 'Corfu Red Wine', 'Drinks', 30),\n",
    "(15, 'Turkish Coffee', 'Drinks', 10),\n",
    "(16, 'Turkish Coffee', 'Drinks', 10),\n",
    "(17, 'Kabasa', 'Main Courses', 17);\"\"\"\n",
    "\n",
    "#*******************************************************#\n",
    "# Insert query to populate \"Menu\" table:\n",
    "#*******************************************************#\n",
    "insert_menu=\"\"\"\n",
    "INSERT INTO Menus (MenuID,ItemID,Cuisine)\n",
    "VALUES\n",
    "(1, 1, 'Greek'),\n",
    "(1, 7, 'Greek'),\n",
    "(1, 10, 'Greek'),\n",
    "(1, 13, 'Greek'),\n",
    "(2, 3, 'Italian'),\n",
    "(2, 9, 'Italian'),\n",
    "(2, 12, 'Italian'),\n",
    "(2, 15, 'Italian'),\n",
    "(3, 5, 'Turkish'),\n",
    "(3, 17, 'Turkish'),\n",
    "(3, 11, 'Turkish'),\n",
    "(3, 16, 'Turkish');\"\"\"\n",
    "\n",
    "#*******************************************************#\n",
    "# Insert query to populate \"Bookings\" table:\n",
    "#*******************************************************#\n",
    "insert_bookings=\"\"\"\n",
    "INSERT INTO Bookings (BookingID, TableNo, GuestFirstName, \n",
    "GuestLastName, BookingSlot, EmployeeID)\n",
    "VALUES\n",
    "(1, 12, 'Anna','Iversen','19:00:00',1),\n",
    "(2, 12, 'Joakim', 'Iversen', '19:00:00', 1),\n",
    "(3, 19, 'Vanessa', 'McCarthy', '15:00:00', 3),\n",
    "(4, 15, 'Marcos', 'Romero', '17:30:00', 4),\n",
    "(5, 5, 'Hiroki', 'Yamane', '18:30:00', 2),\n",
    "(6, 8, 'Diana', 'Pinto', '20:00:00', 5);\"\"\"\n",
    "\n",
    "#*******************************************************#\n",
    "# Insert query to populate \"Orders\" table:\n",
    "#*******************************************************#\n",
    "insert_orders=\"\"\"\n",
    "INSERT INTO Orders (OrderID, TableNo, MenuID, BookingID, Quantity, BillAmount)\n",
    "VALUES\n",
    "(1, 12, 1, 1, 2, 86),\n",
    "(2, 19, 2, 2, 1, 37),\n",
    "(3, 15, 2, 3, 1, 37),\n",
    "(4, 5, 3, 4, 1, 40),\n",
    "(5, 8, 1, 5, 1, 43);\"\"\"\n",
    "\n",
    "#*******************************************************#\n",
    "# Insert query to populate \"Employees\" table:\n",
    "#*******************************************************#\n",
    "insert_employees = \"\"\"\n",
    "INSERT INTO Employees (EmployeeID, Name, Role, Address, Contact_Number, Email, Annual_Salary)\n",
    "VALUES\n",
    "(01,'Mario Gollini','Manager','724, Parsley Lane, Old Town, Chicago, IL',351258074,'Mario.g@littlelemon.com','$70,000'),\n",
    "(02,'Adrian Gollini','Assistant Manager','334, Dill Square, Lincoln Park, Chicago, IL',351474048,'Adrian.g@littlelemon.com','$65,000'),\n",
    "(03,'Giorgos Dioudis','Head Chef','879 Sage Street, West Loop, Chicago, IL',351970582,'Giorgos.d@littlelemon.com','$50,000'),\n",
    "(04,'Fatma Kaya','Assistant Chef','132  Bay Lane, Chicago, IL',351963569,'Fatma.k@littlelemon.com','$45,000'),\n",
    "(05,'Elena Salvai','Head Waiter','989 Thyme Square, EdgeWater, Chicago, IL',351074198,'Elena.s@littlelemon.com','$40,000'),\n",
    "(06,'John Millar','Receptionist','245 Dill Square, Lincoln Park, Chicago, IL',351584508,'John.m@littlelemon.com','$35,000');\"\"\"\n"
   ]
  },
  {
   "cell_type": "code",
   "execution_count": null,
   "id": "ae86d429",
   "metadata": {},
   "outputs": [],
   "source": [
    "# Populate MenuItems table\n",
    "cursor.execute(\"DELETE FROM MenuItems\") # reset the table if it exists\n",
    "cursor.execute(insert_menuitems)\n",
    "connection.commit()\n",
    "\n",
    "# Populate MenuItems table\n",
    "cursor.execute(\"DELETE FROM Menus\") # reset the table if it exists\n",
    "cursor.execute(insert_menu)\n",
    "connection.commit()\n",
    "\n",
    "# Populate Bookings table\n",
    "cursor.execute(\"DELETE FROM Bookings\") # reset the table if it exists\n",
    "cursor.execute(insert_bookings)\n",
    "connection.commit()\n",
    "\n",
    "# Populate Orders table\n",
    "cursor.execute(\"DELETE FROM Orders\") # reset the table if it exists\n",
    "cursor.execute(insert_orders)\n",
    "connection.commit()\n",
    "\n",
    "# Populate Employees table\n",
    "cursor.execute(\"DELETE FROM Employees\") # reset the table if it exists\n",
    "cursor.execute(insert_employees)\n",
    "connection.commit()\n",
    "\n",
    "# Close the cursor and connection\n",
    "cursor.close()\n",
    "connection.close()"
   ]
  },
  {
   "cell_type": "markdown",
   "id": "f8a1f106",
   "metadata": {},
   "source": [
    "## STEP 4: Create Stored Procedures"
   ]
  },
  {
   "cell_type": "code",
   "execution_count": 173,
   "id": "cf0579bc",
   "metadata": {},
   "outputs": [
    {
     "name": "stdout",
     "output_type": "stream",
     "text": [
      "Connection pool created successfully\n"
     ]
    }
   ],
   "source": [
    "# Create mysql connection pool\n",
    "from mysql.connector.pooling import MySQLConnectionPool\n",
    "from mysql.connector import Error\n",
    "\n",
    "dbconfig = {\n",
    "    \"user\": \"testuser\",\n",
    "    \"password\": \"testpass\",\n",
    "    \"database\": \"little_lemon\"\n",
    "}\n",
    "\n",
    "try:\n",
    "    pool = MySQLConnectionPool(\n",
    "        pool_name=\"mypool\",\n",
    "        pool_size=2,\n",
    "        **dbconfig\n",
    "    )\n",
    "    print(\"Connection pool created successfully\")\n",
    "except Error as err:\n",
    "    print(f\"Error code: {err.errno}\")\n",
    "    print(f\"SQLSTATE: {err.sqlstate}\")\n",
    "    print(f\"Error Message: {err.msg}\")"
   ]
  },
  {
   "cell_type": "code",
   "execution_count": 174,
   "id": "5a6e619c",
   "metadata": {},
   "outputs": [
    {
     "name": "stdout",
     "output_type": "stream",
     "text": [
      "'connection1' object is created successfully from the pool\n",
      "Cursor created successfully from the connection pool\n"
     ]
    }
   ],
   "source": [
    "# Get connection from the pool\n",
    "try:\n",
    "    connection1 = pool.get_connection()\n",
    "    if connection1.is_connected():\n",
    "        print(\"'connection1' object is created successfully from the pool\")\n",
    "except Error as err:\n",
    "    print(f\"Error: {err}\")\n",
    "\n",
    "# Create a cursor object using the connection from the pool\n",
    "try:\n",
    "    cursor1 = connection1.cursor()\n",
    "    print(\"Cursor created successfully from the connection pool\")\n",
    "except Error as err:\n",
    "    print(f\"Error: {err}\")"
   ]
  },
  {
   "cell_type": "code",
   "execution_count": 175,
   "id": "76c24a42",
   "metadata": {},
   "outputs": [
    {
     "name": "stdout",
     "output_type": "stream",
     "text": [
      "Connection Pool Name: mypool\n",
      "Connection Pool Size: 2\n",
      "Active Connections: 1\n",
      "[(6, 8, 'Diana', 'Pinto', datetime.timedelta(seconds=72000), 5), (1, 12, 'Anna', 'Iversen', datetime.timedelta(seconds=68400), 1), (2, 12, 'Joakim', 'Iversen', datetime.timedelta(seconds=68400), 1), (5, 5, 'Hiroki', 'Yamane', datetime.timedelta(seconds=66600), 2), (4, 15, 'Marcos', 'Romero', datetime.timedelta(seconds=63000), 4), (3, 19, 'Vanessa', 'McCarthy', datetime.timedelta(seconds=54000), 3)]\n"
     ]
    }
   ],
   "source": [
    "# Inspect the connection pool properties\n",
    "print(f\"Connection Pool Name: {pool.pool_name}\")\n",
    "print(f\"Connection Pool Size: {pool.pool_size}\")\n",
    "print(f\"Active Connections: {pool._cnx_queue.qsize()}\")\n",
    "\n",
    "# Execute a query using the connection from the pool for testing\n",
    "try:\n",
    "    cursor1.execute(\"SELECT * FROM Bookings ORDER BY BookingSlot DESC\")\n",
    "    bookings = cursor1.fetchall()\n",
    "    print(bookings)\n",
    "except Error as err:\n",
    "    print(f\"Error: {err}\")\n"
   ]
  },
  {
   "cell_type": "code",
   "execution_count": null,
   "id": "80c175ed",
   "metadata": {},
   "outputs": [
    {
     "name": "stdout",
     "output_type": "stream",
     "text": [
      "Booking Hour    Number of Bookings  \n",
      "19              2                   \n",
      "15              1                   \n",
      "17              1                   \n",
      "18              1                   \n",
      "20              1                   \n"
     ]
    }
   ],
   "source": [
    "# Implement a stored procedure called PeakHours\n",
    "create_procedure_peak_hours = \"\"\"\n",
    "    DROP PROCEDURE IF EXISTS PeakHours;\n",
    "    CREATE PROCEDURE PeakHours()\n",
    "    BEGIN\n",
    "        SELECT HOUR(BookingSlot) AS Booking_Hour, COUNT(*) AS NumberOfBookings\n",
    "        FROM Bookings\n",
    "        GROUP BY Booking_Hour\n",
    "        ORDER BY NumberOfBookings DESC;\n",
    "    END;\n",
    "    \"\"\"\n",
    "\n",
    "# Execute the stored procedure creation query, and fetch the results\n",
    "cursor1.execute(create_procedure_peak_hours)\n",
    "cursor1.callproc('PeakHours')\n",
    "\n",
    "results = cursor1.stored_results()\n",
    "data = results.fetchall()\n",
    "\n",
    "# Retrieve column names using list comprehension in a for loop \n",
    "for column in cursor.stored_results():\n",
    "    columns = [column[0] for column in column_id.description]\n",
    "\n",
    "print(columns)\n",
    "\n",
    "# Print data \n",
    "for row in data:\n",
    "    print(row)\n",
    "\n",
    "connection1.commit()"
   ]
  },
  {
   "cell_type": "code",
   "execution_count": null,
   "id": "a4f40c78",
   "metadata": {},
   "outputs": [
    {
     "name": "stdout",
     "output_type": "stream",
     "text": [
      "Order Number    Guest Name                Employee             Status              \n"
     ]
    }
   ],
   "source": [
    "guest_status_stored_procedure = \"\"\"\n",
    "    CREATE PROCEDURE GuestStatus()\n",
    "\n",
    "    BEGIN\n",
    "\n",
    "    SELECT \n",
    "\n",
    "    Bookings.BookingID AS OrderNumber,  \n",
    "    CONCAT(GuestFirstName,' ',GuestLastName) AS GuestName, \n",
    "\n",
    "    Role AS Employee, \n",
    "\n",
    "    CASE \n",
    "    WHEN Role IN ('Manager','Assistant Manager') THEN \"Ready to Pay\"\n",
    "    WHEN Role = 'Head Chef' THEN \"Ready to serve\"\n",
    "    WHEN Role = 'Assistant Chef' THEN \"Preparing order\"\n",
    "    WHEN Role = 'Head Waiter' THEN \"Order served\"\n",
    "\n",
    "    ELSE \"Pending\"\n",
    "    END AS Status\n",
    "\n",
    "    FROM Bookings \n",
    "    LEFT JOIN \n",
    "    Employees \n",
    "    ON Employees.EmployeeID=Bookings.EmployeeID;\n",
    "\n",
    "    END\n",
    "\"\"\"\n",
    "\n",
    "\n",
    "\n",
    "# Execute the query and fetch the results\n",
    "cursor.execute(stored_procedure_query)\n",
    "cursor.callproc(\"GuestStatus\")\n",
    "\n",
    "results = next(cursor.stored_results())\n",
    "guests = results.fetchall()\n",
    "\n",
    "# Retrieve column names using list comprehension in a for loop \n",
    "for column_id in cursor.stored_results():\n",
    "    columns = [column[0] for column in column_id.description]\n",
    "\n",
    "# Print column names\n",
    "print(columns)\n",
    "\n",
    "# Print data \n",
    "for guest in guests:\n",
    "    print(guest)\n",
    "\n",
    "connection1.commit()\n",
    "# close th cursor and connections\n",
    "cursor1.close()\n",
    "connection1.close()"
   ]
  },
  {
   "cell_type": "markdown",
   "id": "26aec632",
   "metadata": {},
   "source": [
    "## STEP 5: Little Lemon Analysis and Sales Report"
   ]
  },
  {
   "cell_type": "code",
   "execution_count": 179,
   "id": "a26452fc",
   "metadata": {},
   "outputs": [
    {
     "name": "stdout",
     "output_type": "stream",
     "text": [
      "The connection pool is created with the name:  mypool_a\n",
      "The pool size is: 2\n"
     ]
    }
   ],
   "source": [
    "# Import MySQLConnectionPool class\n",
    "from mysql.connector.pooling import MySQLConnectionPool\n",
    "\n",
    "# Import Error class\n",
    "from mysql.connector import Error\n",
    "\n",
    "# Define database configurations\n",
    "dbconfig = {\n",
    "    \"database\":\"little_lemon\",\n",
    "    \"user\" : \"root\",\n",
    "    \"password\" : \"rootpass\"\n",
    "}\n",
    "\n",
    "# Create a pool named \"pool_b\" with two connections.\n",
    "# try-except block\n",
    "try:\n",
    "    pool = MySQLConnectionPool(pool_name = \"mypool_a\",pool_size = 2,**dbconfig)\n",
    "    print(\"The connection pool is created with the name: \",pool.pool_name)\n",
    "    print(\"The pool size is:\",pool.pool_size)\n",
    "\n",
    "except Error as er:\n",
    "    print(\"Error code:\", er.errno)\n",
    "    print(\"Error message:\", er.msg)\n"
   ]
  },
  {
   "cell_type": "code",
   "execution_count": 180,
   "id": "2189615d",
   "metadata": {},
   "outputs": [
    {
     "name": "stdout",
     "output_type": "stream",
     "text": [
      "A new booking is added in the \"Bookings\" table.\n"
     ]
    }
   ],
   "source": [
    "# Connect the first guest.\n",
    "connection1 = pool.get_connection()\n",
    "cursor1=connection1.cursor()\n",
    "\n",
    "booking1_query=\"\"\"\n",
    "    INSERT INTO Bookings \n",
    "    (TableNo, GuestFirstName, GuestLastName, BookingSlot, EmployeeID)\n",
    "    VALUES\n",
    "    (8,'Anees','Java','18:00:00',6);\n",
    "\"\"\"\n",
    "# Execute the insert query\n",
    "cursor1.execute(booking1_query)\n",
    "connection1.commit()\n",
    "print(\"\"\"A new booking is added in the \"Bookings\" table.\"\"\")\n",
    "\n"
   ]
  },
  {
   "cell_type": "code",
   "execution_count": 181,
   "id": "1634414d",
   "metadata": {},
   "outputs": [
    {
     "name": "stdout",
     "output_type": "stream",
     "text": [
      "A new booking is added in the \"Bookings\" table.\n"
     ]
    }
   ],
   "source": [
    "# Connect the second guest .\n",
    "connection2 = pool.get_connection()\n",
    "cursor2=connection2.cursor()\n",
    "\n",
    "booking2_query=\"\"\"\n",
    "    INSERT INTO Bookings \n",
    "    (TableNo, GuestFirstName, GuestLastName, BookingSlot, EmployeeID)\n",
    "    VALUES\n",
    "    (5, 'Bald','Vin','19:00:00',6);\n",
    "    \"\"\"\n",
    "\n",
    "cursor2.execute(booking2_query)\n",
    "connection2.commit()\n",
    "\n",
    "print(\"\"\"A new booking is added in the \"Bookings\" table.\"\"\")\n"
   ]
  },
  {
   "cell_type": "code",
   "execution_count": 183,
   "id": "927c848c",
   "metadata": {},
   "outputs": [
    {
     "name": "stdout",
     "output_type": "stream",
     "text": [
      "Adding new connection in the pool.\n",
      "A new connection is added in the pool.\n",
      "\n",
      "'connection3' is added in the pool.\n",
      "A new booking is added in the \"Bookings\" table.\n",
      "Connection is returned to the pool\n",
      "Connection is returned to the pool\n",
      "\n",
      "Connection can't be returned to the pool\n",
      "Error message: Failed adding connection; queue is full\n"
     ]
    }
   ],
   "source": [
    "# Adding a new connection to connect the third user.\n",
    "try:\n",
    "    connection3 = pool.get_connection()\n",
    "    print(\"The guest is connected\")\n",
    "except:\n",
    "    print(\"Adding new connection in the pool.\")\n",
    "        \n",
    "    # Create a connection\n",
    "    connection=connector.connect(user=\"testuser\",password=\"testpass\")\n",
    "    # Add the connection into the pool\n",
    "    pool.add_connection(cnx=connection)\n",
    "    print(\"A new connection is added in the pool.\\n\")\n",
    "        \n",
    "    connection3 = pool.get_connection()\n",
    "    print(\"'connection3' is added in the pool.\")\n",
    "    \n",
    "# Connect the third guest \n",
    "cursor3 = connection3.cursor()\n",
    "\n",
    "booking3_query = \"\"\"\n",
    "    INSERT INTO Bookings \n",
    "    (TableNo, GuestFirstName, GuestLastName, BookingSlot, EmployeeID)\n",
    "    VALUES\n",
    "    (12, 'Jay','Kon','19:30:00',6);\n",
    "    \"\"\"\n",
    "\n",
    "cursor3.execute(booking3_query)\n",
    "connection3.commit()\n",
    "\n",
    "print(\"\"\"A new booking is added in the \"Bookings\" table.\"\"\")\n",
    "\n",
    "#  Close all  connections.\n",
    "\n",
    "for connection in [connection1,connection2, connection3]:\n",
    "    try:\n",
    "        connection.close()\n",
    "        print(\"Connection is returned to the pool\")\n",
    "    except Error as er:\n",
    "        print(\"\\nConnection can't be returned to the pool\")\n",
    "        print(\"Error message:\", er.msg)\n"
   ]
  },
  {
   "cell_type": "code",
   "execution_count": 184,
   "id": "799d452f",
   "metadata": {},
   "outputs": [
    {
     "name": "stdout",
     "output_type": "stream",
     "text": [
      "The object \"connection\" is created with a connection link from the mypool\n",
      "The cursor object \"cursor\" is created.\n"
     ]
    }
   ],
   "source": [
    "# Get a connection from mypool and create a cursor object \n",
    "connection = pool.get_connection()\n",
    "print(\"\"\"The object \"connection\" is created with a connection link from the mypool\"\"\")\n",
    "\n",
    "cursor = connection.cursor()\n",
    "print(\"\"\"The cursor object \"cursor\" is created.\"\"\")\n",
    "\n"
   ]
  },
  {
   "cell_type": "code",
   "execution_count": 185,
   "id": "69408607",
   "metadata": {},
   "outputs": [
    {
     "name": "stdout",
     "output_type": "stream",
     "text": [
      "('Name', 'EmployeeID')\n",
      "('Mario Gollini', 1)\n"
     ]
    }
   ],
   "source": [
    "# Query the Little Lemon manager.\n",
    "cursor.execute(\"\"\"\n",
    "    SELECT \n",
    "    Name, EmployeeID \n",
    "    FROM Employees \n",
    "    WHERE Role = 'Manager';\n",
    "    \"\"\")\n",
    "\n",
    "results=cursor.fetchall()\n",
    "columns=cursor.column_names\n",
    "\n",
    "print(columns)\n",
    "for result in results:\n",
    "    print(result)\n",
    "\n"
   ]
  },
  {
   "cell_type": "code",
   "execution_count": 186,
   "id": "db64c32e",
   "metadata": {},
   "outputs": [
    {
     "name": "stdout",
     "output_type": "stream",
     "text": [
      "('Name', 'EmployeeID')\n",
      "('Mario Gollini', 1)\n"
     ]
    }
   ],
   "source": [
    "# Query the name and role of the employee who receives the highest salary\n",
    "cursor.execute(\"\"\"\n",
    "    SELECT Name, EmployeeID \n",
    "    FROM Employees ORDER BY \n",
    "    Annual_Salary DESC LIMIT 1\n",
    "    \"\"\")\n",
    "\n",
    "results=cursor.fetchall()\n",
    "columns=cursor.column_names\n",
    "\n",
    "print(columns)\n",
    "\n",
    "for result in results:\n",
    "    print(result)\n",
    "\n"
   ]
  },
  {
   "cell_type": "code",
   "execution_count": 187,
   "id": "9d01cfa4",
   "metadata": {},
   "outputs": [
    {
     "name": "stdout",
     "output_type": "stream",
     "text": [
      "('n_booking_between_18_20_hrs',)\n",
      "(7,)\n"
     ]
    }
   ],
   "source": [
    "# Query the number of guests booked between 6 - 8 PM.\n",
    "cursor.execute(\"\"\"SELECT \n",
    "COUNT(BookingID) n_booking_between_18_20_hrs\n",
    "FROM Bookings \n",
    "WHERE BookingSlot BETWEEN '18:00:00' AND '20:00:00';\"\"\")\n",
    "results=cursor.fetchall()\n",
    "columns=cursor.column_names\n",
    "print(columns)\n",
    "for result in results:\n",
    "    print(result)"
   ]
  },
  {
   "cell_type": "code",
   "execution_count": 188,
   "id": "034997e7",
   "metadata": {},
   "outputs": [
    {
     "name": "stdout",
     "output_type": "stream",
     "text": [
      "The following guests are waiting to be seated:\n",
      "('ID', 'GuestName', 'Employee')\n",
      "(9, 'Jay Kon', 'Receptionist')\n",
      "(8, 'Bald Vin', 'Receptionist')\n",
      "(7, 'Anees Java', 'Receptionist')\n"
     ]
    }
   ],
   "source": [
    "# Query the full name and the BookingId of each guest waiting to be seated  \n",
    "# with the receptionist in sorted order with respect to their BookingSlot.\n",
    "\n",
    "cursor.execute(\"\"\"\n",
    "    SELECT \n",
    "\n",
    "    Bookings.BookingID AS ID,  \n",
    "    CONCAT(GuestFirstName,' ',GuestLastName) AS GuestName, \n",
    "\n",
    "    Role AS Employee\n",
    "\n",
    "    FROM Bookings \n",
    "    LEFT JOIN \n",
    "    Employees \n",
    "    ON Employees.EmployeeID=Bookings.EmployeeID\n",
    "    WHERE Employees.Role = \"Receptionist\"\n",
    "    ORDER BY BookingSlot DESC;\n",
    "\"\"\")\n",
    "\n",
    "print(\"The following guests are waiting to be seated:\")\n",
    "\n",
    "results=cursor.fetchall()\n",
    "columns=cursor.column_names\n",
    "\n",
    "print(columns)\n",
    "\n",
    "for result in results:\n",
    "    print(result)\n"
   ]
  },
  {
   "cell_type": "code",
   "execution_count": null,
   "id": "116cb9a5",
   "metadata": {},
   "outputs": [
    {
     "name": "stdout",
     "output_type": "stream",
     "text": [
      "Today's sales report:\n",
      "\t Total_Sale : 243\n",
      "\t Average_Sale : 48.6000\n",
      "\t Min_Bill_Paid : 37\n",
      "\t Max_Bill_Paid : 86\n"
     ]
    }
   ],
   "source": [
    "# Create and execute a stored procedure named BasicSalesReport. \n",
    "cursor.execute(\"DROP PROCEDURE IF EXISTS BasicSalesReport;\")\n",
    "stored_procedure_query=\"\"\"\n",
    "CREATE PROCEDURE BasicSalesReport()\n",
    "\n",
    "BEGIN\n",
    "SELECT \n",
    "SUM(BillAmount) AS Total_Sale,\n",
    "AVG(BillAmount) AS Average_Sale,\n",
    "MIN(BillAmount) AS Min_Bill_Paid,\n",
    "MAX(BillAmount) AS Max_Bill_Paid\n",
    "FROM Orders;\n",
    "END\n",
    "\"\"\"\n",
    "\n",
    "\n",
    "# Execute the query and call the stored procedure with its name\n",
    "cursor.execute(stored_procedure_query)\n",
    "cursor.callproc(\"BasicSalesReport\")\n",
    "\n",
    "# Retrieve records in \"report\"\n",
    "results = next(cursor.stored_results())\n",
    "report = results.fetchall()\n",
    "\n",
    "# Retrieve column names using list comprehension in a for loop \n",
    "for column_id in cursor.stored_results():\n",
    "    cols = [column[0] for column in column_id.description]\n",
    "\n",
    "    \n",
    "print(\"Today's sales report:\")\n",
    "for row in report:\n",
    "    print(\"\\t\",cols[0],\"\":\"\",row[0])\n",
    "    print(\"\\t\",cols[1],\"\":\"\",row[1])\n",
    "    print(\"\\t\",cols[2],\"\":\"\",row[2])\n",
    "    print(\"\\t\",cols[3],\"\":\"\",row[3])\n",
    "\n",
    "connection.commit()"
   ]
  },
  {
   "cell_type": "code",
   "execution_count": 193,
   "id": "dc8be72d",
   "metadata": {},
   "outputs": [
    {
     "name": "stdout",
     "output_type": "stream",
     "text": [
      "\n",
      "BookingSlot 15:00:00\n",
      "\tGuest_name: Vanessa McCarthy\n",
      "\tAssigned to: Giorgos Dioudis [Head Chef]\n",
      "\n",
      "BookingSlot 17:30:00\n",
      "\tGuest_name: Marcos Romero\n",
      "\tAssigned to: Fatma Kaya [Assistant Chef]\n",
      "\n",
      "BookingSlot 18:00:00\n",
      "\tGuest_name: Anees Java\n",
      "\tAssigned to: John Millar [Receptionist]\n"
     ]
    }
   ],
   "source": [
    "# Query the booking slot, guest name, assigned employee name and role \n",
    "# for the first three bookings in ascending order of their booking slot.\n",
    "booking_slot_query=\"\"\"\n",
    "    SELECT \n",
    "    Bookings.BookingSlot,\n",
    "    CONCAT(Bookings.GuestFirstName,\" \",Bookings.GuestLastName) AS Guest_Name,\n",
    "    Employees.Name AS Emp_Name,\n",
    "    Employees.Role AS Emp_Role\n",
    "    FROM Bookings \n",
    "    INNER JOIN \n",
    "    Employees ON Bookings.EmployeeID=Employees.EmployeeID\n",
    "    ORDER BY Bookings.BookingSlot ASC;\n",
    "    \"\"\"\n",
    "\n",
    "# Execute the query and fetch the results\n",
    "cursor.execute(booking_slot_query)\n",
    "results=cursor.fetchmany(size=3)\n",
    "\n",
    "for result in results:\n",
    "    print(\"\\nBookingSlot\",result[0])\n",
    "    print(\"\\tGuest_name:\",result[1])\n",
    "    print(\"\\tAssigned to:\",result[2],\"[{}]\".format(result[3]))\n",
    "    \n",
    "connection.close()"
   ]
  }
 ],
 "metadata": {
  "kernelspec": {
   "display_name": "venv",
   "language": "python",
   "name": "python3"
  },
  "language_info": {
   "codemirror_mode": {
    "name": "ipython",
    "version": 3
   },
   "file_extension": ".py",
   "mimetype": "text/x-python",
   "name": "python",
   "nbconvert_exporter": "python",
   "pygments_lexer": "ipython3",
   "version": "3.13.5"
  }
 },
 "nbformat": 4,
 "nbformat_minor": 5
}
